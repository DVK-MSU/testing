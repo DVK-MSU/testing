{
  "nbformat": 4,
  "nbformat_minor": 0,
  "metadata": {
    "colab": {
      "provenance": []
    },
    "kernelspec": {
      "name": "python3",
      "display_name": "Python 3"
    },
    "language_info": {
      "name": "python"
    }
  },
  "cells": [
    {
      "cell_type": "code",
      "execution_count": 1,
      "metadata": {
        "colab": {
          "base_uri": "https://localhost:8080/"
        },
        "id": "GwVndncmcVcp",
        "outputId": "16ccf150-4a28-497c-8592-052b545d0acd"
      },
      "outputs": [
        {
          "output_type": "stream",
          "name": "stdout",
          "text": [
            "Requirement already satisfied: pyspark in /usr/local/lib/python3.10/dist-packages (3.4.1)\n",
            "Requirement already satisfied: py4j==0.10.9.7 in /usr/local/lib/python3.10/dist-packages (from pyspark) (0.10.9.7)\n",
            "openjdk-8-jdk-headless is already the newest version (8u382-ga-1~22.04.1).\n",
            "0 upgraded, 0 newly installed, 0 to remove and 16 not upgraded.\n"
          ]
        }
      ],
      "source": [
        "!pip install pyspark\n",
        "!pip install -U -q PyDrive\n",
        "!apt install openjdk-8-jdk-headless -qq"
      ]
    },
    {
      "cell_type": "code",
      "source": [
        "import pandas as pd\n",
        "import numpy as np\n",
        "\n",
        "import pyspark\n",
        "from pyspark.sql import *\n",
        "from pyspark.sql.types import *\n",
        "import pyspark.sql.functions as F\n",
        "from pyspark import SparkContext, SparkConf"
      ],
      "metadata": {
        "id": "dCGvBfxfdHAq"
      },
      "execution_count": 2,
      "outputs": []
    },
    {
      "cell_type": "code",
      "source": [
        "conf = SparkConf().set(\"spark.ui.port\", \"4050\")\n",
        "sc = pyspark.SparkContext(conf=conf)\n",
        "spark = SparkSession.builder.getOrCreate()"
      ],
      "metadata": {
        "id": "g3S0gkfBdqwY"
      },
      "execution_count": 3,
      "outputs": []
    },
    {
      "cell_type": "code",
      "source": [
        "#Connection is tested sucsessfully"
      ],
      "metadata": {
        "id": "oZNSPJrVe0Fw"
      },
      "execution_count": 4,
      "outputs": []
    },
    {
      "cell_type": "markdown",
      "source": [
        "# Feature engineering"
      ],
      "metadata": {
        "id": "Sc-dCsnbqSRL"
      }
    },
    {
      "cell_type": "code",
      "source": [
        "from __future__ import print_function"
      ],
      "metadata": {
        "id": "N-Q5NQ73qRrL"
      },
      "execution_count": 5,
      "outputs": []
    },
    {
      "cell_type": "code",
      "source": [
        "from google.colab import drive\n",
        "drive.mount('/content/drive')"
      ],
      "metadata": {
        "colab": {
          "base_uri": "https://localhost:8080/"
        },
        "id": "vjBK0w1lqwWo",
        "outputId": "5e006e2e-903a-4525-cc08-8ece5efbea1f"
      },
      "execution_count": 6,
      "outputs": [
        {
          "output_type": "stream",
          "name": "stdout",
          "text": [
            "Drive already mounted at /content/drive; to attempt to forcibly remount, call drive.mount(\"/content/drive\", force_remount=True).\n"
          ]
        }
      ]
    },
    {
      "cell_type": "code",
      "source": [
        "import sys"
      ],
      "metadata": {
        "id": "Vt4_Vn8yq-1J"
      },
      "execution_count": 7,
      "outputs": []
    },
    {
      "cell_type": "code",
      "source": [
        "import warnings\n",
        "warnings.filterwarnings('ignore')"
      ],
      "metadata": {
        "id": "_tuA8MfxrCb7"
      },
      "execution_count": 8,
      "outputs": []
    },
    {
      "cell_type": "markdown",
      "source": [
        "## Выбор релевантных признаков"
      ],
      "metadata": {
        "id": "KXvu6D2frSDY"
      }
    },
    {
      "cell_type": "code",
      "source": [
        "#Загрузка датасета\n",
        "from sqlalchemy.sql.expression import true\n",
        "input_path = '/content/drive/MyDrive/Spark_training/california_housing_train.csv'\n",
        "df =spark.read.csv(input_path, inferSchema=True, header=True)"
      ],
      "metadata": {
        "id": "kdfvc8xirOFM"
      },
      "execution_count": 9,
      "outputs": []
    },
    {
      "cell_type": "code",
      "source": [
        "# Размер и схема датасета\n",
        "print(f'rows: {df.count()}, columns: {len(df.columns)}')"
      ],
      "metadata": {
        "colab": {
          "base_uri": "https://localhost:8080/"
        },
        "id": "oofpnYeouHqs",
        "outputId": "0ff46053-ff06-4338-91dd-13ff018a584c"
      },
      "execution_count": 10,
      "outputs": [
        {
          "output_type": "stream",
          "name": "stdout",
          "text": [
            "rows: 17000, columns: 9\n"
          ]
        }
      ]
    },
    {
      "cell_type": "code",
      "source": [
        "df.printSchema()"
      ],
      "metadata": {
        "colab": {
          "base_uri": "https://localhost:8080/"
        },
        "id": "6YjT4TMRuu3O",
        "outputId": "11ef4dc0-2724-4d16-b2bd-13865e3364a1"
      },
      "execution_count": 11,
      "outputs": [
        {
          "output_type": "stream",
          "name": "stdout",
          "text": [
            "root\n",
            " |-- longitude: double (nullable = true)\n",
            " |-- latitude: double (nullable = true)\n",
            " |-- housing_median_age: double (nullable = true)\n",
            " |-- total_rooms: double (nullable = true)\n",
            " |-- total_bedrooms: double (nullable = true)\n",
            " |-- population: double (nullable = true)\n",
            " |-- households: double (nullable = true)\n",
            " |-- median_income: double (nullable = true)\n",
            " |-- median_house_value: double (nullable = true)\n",
            "\n"
          ]
        }
      ]
    },
    {
      "cell_type": "code",
      "source": [
        "from pandas._libs.hashtable import value_count\n",
        "def value_counts(df, col_name):\n",
        "    value_counts = df.GroupBy(col_name).count().orderBy(col('count').desc())\n",
        "    return value_counts.show()"
      ],
      "metadata": {
        "id": "7fpW92Dpu6Y3"
      },
      "execution_count": 12,
      "outputs": []
    },
    {
      "cell_type": "code",
      "source": [
        "df.show()"
      ],
      "metadata": {
        "colab": {
          "base_uri": "https://localhost:8080/"
        },
        "id": "hhPFA0xAvssv",
        "outputId": "c8c953a6-de2c-4218-ba7e-5bcabf7990c5"
      },
      "execution_count": 13,
      "outputs": [
        {
          "output_type": "stream",
          "name": "stdout",
          "text": [
            "+---------+--------+------------------+-----------+--------------+----------+----------+-------------+------------------+\n",
            "|longitude|latitude|housing_median_age|total_rooms|total_bedrooms|population|households|median_income|median_house_value|\n",
            "+---------+--------+------------------+-----------+--------------+----------+----------+-------------+------------------+\n",
            "|  -114.31|   34.19|              15.0|     5612.0|        1283.0|    1015.0|     472.0|       1.4936|           66900.0|\n",
            "|  -114.47|    34.4|              19.0|     7650.0|        1901.0|    1129.0|     463.0|         1.82|           80100.0|\n",
            "|  -114.56|   33.69|              17.0|      720.0|         174.0|     333.0|     117.0|       1.6509|           85700.0|\n",
            "|  -114.57|   33.64|              14.0|     1501.0|         337.0|     515.0|     226.0|       3.1917|           73400.0|\n",
            "|  -114.57|   33.57|              20.0|     1454.0|         326.0|     624.0|     262.0|        1.925|           65500.0|\n",
            "|  -114.58|   33.63|              29.0|     1387.0|         236.0|     671.0|     239.0|       3.3438|           74000.0|\n",
            "|  -114.58|   33.61|              25.0|     2907.0|         680.0|    1841.0|     633.0|       2.6768|           82400.0|\n",
            "|  -114.59|   34.83|              41.0|      812.0|         168.0|     375.0|     158.0|       1.7083|           48500.0|\n",
            "|  -114.59|   33.61|              34.0|     4789.0|        1175.0|    3134.0|    1056.0|       2.1782|           58400.0|\n",
            "|   -114.6|   34.83|              46.0|     1497.0|         309.0|     787.0|     271.0|       2.1908|           48100.0|\n",
            "|   -114.6|   33.62|              16.0|     3741.0|         801.0|    2434.0|     824.0|       2.6797|           86500.0|\n",
            "|   -114.6|    33.6|              21.0|     1988.0|         483.0|    1182.0|     437.0|        1.625|           62000.0|\n",
            "|  -114.61|   34.84|              48.0|     1291.0|         248.0|     580.0|     211.0|       2.1571|           48600.0|\n",
            "|  -114.61|   34.83|              31.0|     2478.0|         464.0|    1346.0|     479.0|        3.212|           70400.0|\n",
            "|  -114.63|   32.76|              15.0|     1448.0|         378.0|     949.0|     300.0|       0.8585|           45000.0|\n",
            "|  -114.65|   34.89|              17.0|     2556.0|         587.0|    1005.0|     401.0|       1.6991|           69100.0|\n",
            "|  -114.65|    33.6|              28.0|     1678.0|         322.0|     666.0|     256.0|       2.9653|           94900.0|\n",
            "|  -114.65|   32.79|              21.0|       44.0|          33.0|      64.0|      27.0|       0.8571|           25000.0|\n",
            "|  -114.66|   32.74|              17.0|     1388.0|         386.0|     775.0|     320.0|       1.2049|           44000.0|\n",
            "|  -114.67|   33.92|              17.0|       97.0|          24.0|      29.0|      15.0|       1.2656|           27500.0|\n",
            "+---------+--------+------------------+-----------+--------------+----------+----------+-------------+------------------+\n",
            "only showing top 20 rows\n",
            "\n"
          ]
        }
      ]
    },
    {
      "cell_type": "code",
      "source": [
        "important_cols = ['longitude', 'latitude', 'housing_median_age', 'total_rooms', 'population', 'households']"
      ],
      "metadata": {
        "id": "Y0zK5HcDwH6Y"
      },
      "execution_count": 14,
      "outputs": []
    },
    {
      "cell_type": "code",
      "source": [
        "#формируем датасет, используя только нужные признаки\n",
        "df_1 = df.select(important_cols)"
      ],
      "metadata": {
        "id": "LbA-0z_tw_RN"
      },
      "execution_count": 15,
      "outputs": []
    },
    {
      "cell_type": "code",
      "source": [
        "df_1.show()"
      ],
      "metadata": {
        "colab": {
          "base_uri": "https://localhost:8080/"
        },
        "id": "sJa7ZZBZxk9g",
        "outputId": "d185576c-3365-498e-87a3-7e29431df511"
      },
      "execution_count": 16,
      "outputs": [
        {
          "output_type": "stream",
          "name": "stdout",
          "text": [
            "+---------+--------+------------------+-----------+----------+----------+\n",
            "|longitude|latitude|housing_median_age|total_rooms|population|households|\n",
            "+---------+--------+------------------+-----------+----------+----------+\n",
            "|  -114.31|   34.19|              15.0|     5612.0|    1015.0|     472.0|\n",
            "|  -114.47|    34.4|              19.0|     7650.0|    1129.0|     463.0|\n",
            "|  -114.56|   33.69|              17.0|      720.0|     333.0|     117.0|\n",
            "|  -114.57|   33.64|              14.0|     1501.0|     515.0|     226.0|\n",
            "|  -114.57|   33.57|              20.0|     1454.0|     624.0|     262.0|\n",
            "|  -114.58|   33.63|              29.0|     1387.0|     671.0|     239.0|\n",
            "|  -114.58|   33.61|              25.0|     2907.0|    1841.0|     633.0|\n",
            "|  -114.59|   34.83|              41.0|      812.0|     375.0|     158.0|\n",
            "|  -114.59|   33.61|              34.0|     4789.0|    3134.0|    1056.0|\n",
            "|   -114.6|   34.83|              46.0|     1497.0|     787.0|     271.0|\n",
            "|   -114.6|   33.62|              16.0|     3741.0|    2434.0|     824.0|\n",
            "|   -114.6|    33.6|              21.0|     1988.0|    1182.0|     437.0|\n",
            "|  -114.61|   34.84|              48.0|     1291.0|     580.0|     211.0|\n",
            "|  -114.61|   34.83|              31.0|     2478.0|    1346.0|     479.0|\n",
            "|  -114.63|   32.76|              15.0|     1448.0|     949.0|     300.0|\n",
            "|  -114.65|   34.89|              17.0|     2556.0|    1005.0|     401.0|\n",
            "|  -114.65|    33.6|              28.0|     1678.0|     666.0|     256.0|\n",
            "|  -114.65|   32.79|              21.0|       44.0|      64.0|      27.0|\n",
            "|  -114.66|   32.74|              17.0|     1388.0|     775.0|     320.0|\n",
            "|  -114.67|   33.92|              17.0|       97.0|      29.0|      15.0|\n",
            "+---------+--------+------------------+-----------+----------+----------+\n",
            "only showing top 20 rows\n",
            "\n"
          ]
        }
      ]
    },
    {
      "cell_type": "code",
      "source": [
        "#группируем по housing_median_age и сортируем\n",
        "df_1.createOrReplaceTempView('df_1')"
      ],
      "metadata": {
        "id": "g3aCPecPxvkB"
      },
      "execution_count": 17,
      "outputs": []
    },
    {
      "cell_type": "code",
      "source": [
        "df_grouped_by_median_age = spark.sql(\"\"\"\n",
        "select longitude,latitude, housing_median_age, total_rooms, population, households,\n",
        "count(*) OVER(partition by housing_median_age order by housing_median_age desc) as cnt_houses\n",
        "\n",
        " from df_1\n",
        " \"\"\")"
      ],
      "metadata": {
        "id": "kvCUop-i1zWh"
      },
      "execution_count": 18,
      "outputs": []
    },
    {
      "cell_type": "code",
      "source": [
        "df_grouped_by_median_age.show()"
      ],
      "metadata": {
        "colab": {
          "base_uri": "https://localhost:8080/"
        },
        "id": "LZ8ZlZCB4fC7",
        "outputId": "1654f38b-19a8-4ca6-ca19-bbae96dae88e"
      },
      "execution_count": 19,
      "outputs": [
        {
          "output_type": "stream",
          "name": "stdout",
          "text": [
            "+---------+--------+------------------+-----------+----------+----------+----------+\n",
            "|longitude|latitude|housing_median_age|total_rooms|population|households|cnt_houses|\n",
            "+---------+--------+------------------+-----------+----------+----------+----------+\n",
            "|  -120.93|   37.65|               1.0|     2254.0|     402.0|     112.0|         2|\n",
            "|   -122.0|   38.23|               1.0|     2062.0|     872.0|     268.0|         2|\n",
            "|   -115.8|   33.26|               2.0|       96.0|      30.0|      16.0|        49|\n",
            "|  -116.89|   33.86|               2.0|     6900.0|    1950.0|     980.0|        49|\n",
            "|  -117.15|    33.7|               2.0|     6305.0|    2489.0|    1152.0|        49|\n",
            "|  -117.16|   33.57|               2.0|    20391.0|    7132.0|    2716.0|        49|\n",
            "|  -117.17|   34.12|               2.0|     3867.0|    1275.0|     433.0|        49|\n",
            "|  -117.17|   33.66|               2.0|     7401.0|    2826.0|     839.0|        49|\n",
            "|  -117.21|   33.82|               2.0|     4198.0|    1943.0|     673.0|        49|\n",
            "|  -117.23|   33.83|               2.0|     1424.0|     681.0|     192.0|        49|\n",
            "|  -117.23|   33.16|               2.0|     4624.0|    2091.0|     808.0|        49|\n",
            "|  -117.26|   33.19|               2.0|     2629.0|    1044.0|     522.0|        49|\n",
            "|  -117.27|   33.93|               2.0|      337.0|     115.0|      49.0|        49|\n",
            "|  -117.28|   34.06|               2.0|     1658.0|     868.0|     304.0|        49|\n",
            "|  -117.33|    33.9|               2.0|    12837.0|    4636.0|    1453.0|        49|\n",
            "|   -117.5|   34.12|               2.0|    11965.0|    4436.0|    1296.0|        49|\n",
            "|  -117.52|   33.89|               2.0|    17978.0|    7305.0|    2463.0|        49|\n",
            "|  -117.58|    34.0|               2.0|     7544.0|    2801.0|    1001.0|        49|\n",
            "|  -117.59|   33.65|               2.0|     4860.0|    2332.0|    1073.0|        49|\n",
            "|  -117.61|   33.63|               2.0|     4678.0|    1970.0|     712.0|        49|\n",
            "+---------+--------+------------------+-----------+----------+----------+----------+\n",
            "only showing top 20 rows\n",
            "\n"
          ]
        }
      ]
    },
    {
      "cell_type": "code",
      "source": [
        "df_grouped_by_median_age.createOrReplaceTempView('df_grouped_by_median_age_view')"
      ],
      "metadata": {
        "id": "E_yKvB0Y5BXn"
      },
      "execution_count": 22,
      "outputs": []
    },
    {
      "cell_type": "code",
      "source": [
        "df_3 = spark.sql(\"\"\"\n",
        "SELECT *, round(avg(total_rooms) OVER(partition by housing_median_age), 2) as avg_total_rooms\n",
        "FROM df_grouped_by_median_age_view\n",
        "\"\"\") #добавлен признак avg_total_rooms"
      ],
      "metadata": {
        "id": "Y4Tl1nWY5F52"
      },
      "execution_count": 27,
      "outputs": []
    },
    {
      "cell_type": "code",
      "source": [
        "df_3.show()"
      ],
      "metadata": {
        "colab": {
          "base_uri": "https://localhost:8080/"
        },
        "id": "wtzDI_Ng7Tmd",
        "outputId": "24a9934e-2a51-4b54-f2c3-c260b6e7a498"
      },
      "execution_count": 29,
      "outputs": [
        {
          "output_type": "stream",
          "name": "stdout",
          "text": [
            "+---------+--------+------------------+-----------+----------+----------+----------+---------------+\n",
            "|longitude|latitude|housing_median_age|total_rooms|population|households|cnt_houses|avg_total_rooms|\n",
            "+---------+--------+------------------+-----------+----------+----------+----------+---------------+\n",
            "|  -120.93|   37.65|               1.0|     2254.0|     402.0|     112.0|         2|         2158.0|\n",
            "|   -122.0|   38.23|               1.0|     2062.0|     872.0|     268.0|         2|         2158.0|\n",
            "|   -115.8|   33.26|               2.0|       96.0|      30.0|      16.0|        49|         5237.1|\n",
            "|  -116.89|   33.86|               2.0|     6900.0|    1950.0|     980.0|        49|         5237.1|\n",
            "|  -117.15|    33.7|               2.0|     6305.0|    2489.0|    1152.0|        49|         5237.1|\n",
            "|  -117.16|   33.57|               2.0|    20391.0|    7132.0|    2716.0|        49|         5237.1|\n",
            "|  -117.17|   34.12|               2.0|     3867.0|    1275.0|     433.0|        49|         5237.1|\n",
            "|  -117.17|   33.66|               2.0|     7401.0|    2826.0|     839.0|        49|         5237.1|\n",
            "|  -117.21|   33.82|               2.0|     4198.0|    1943.0|     673.0|        49|         5237.1|\n",
            "|  -117.23|   33.83|               2.0|     1424.0|     681.0|     192.0|        49|         5237.1|\n",
            "|  -117.23|   33.16|               2.0|     4624.0|    2091.0|     808.0|        49|         5237.1|\n",
            "|  -117.26|   33.19|               2.0|     2629.0|    1044.0|     522.0|        49|         5237.1|\n",
            "|  -117.27|   33.93|               2.0|      337.0|     115.0|      49.0|        49|         5237.1|\n",
            "|  -117.28|   34.06|               2.0|     1658.0|     868.0|     304.0|        49|         5237.1|\n",
            "|  -117.33|    33.9|               2.0|    12837.0|    4636.0|    1453.0|        49|         5237.1|\n",
            "|   -117.5|   34.12|               2.0|    11965.0|    4436.0|    1296.0|        49|         5237.1|\n",
            "|  -117.52|   33.89|               2.0|    17978.0|    7305.0|    2463.0|        49|         5237.1|\n",
            "|  -117.58|    34.0|               2.0|     7544.0|    2801.0|    1001.0|        49|         5237.1|\n",
            "|  -117.59|   33.65|               2.0|     4860.0|    2332.0|    1073.0|        49|         5237.1|\n",
            "|  -117.61|   33.63|               2.0|     4678.0|    1970.0|     712.0|        49|         5237.1|\n",
            "+---------+--------+------------------+-----------+----------+----------+----------+---------------+\n",
            "only showing top 20 rows\n",
            "\n"
          ]
        }
      ]
    }
  ]
}