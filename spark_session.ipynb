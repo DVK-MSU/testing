{
  "nbformat": 4,
  "nbformat_minor": 0,
  "metadata": {
    "colab": {
      "provenance": []
    },
    "kernelspec": {
      "name": "python3",
      "display_name": "Python 3"
    },
    "language_info": {
      "name": "python"
    }
  },
  "cells": [
    {
      "cell_type": "markdown",
      "metadata": {
        "id": "view-in-github"
      },
      "source": [
        "<a href=\"https://colab.research.google.com/github/DVK-MSU/testing/blob/main/spark_session_copy.ipynb\" target=\"_parent\"><img src=\"https://colab.research.google.com/assets/colab-badge.svg\" alt=\"Open In Colab\"/></a>"
      ]
    },
    {
      "cell_type": "code",
      "execution_count": 4,
      "metadata": {
        "colab": {
          "base_uri": "https://localhost:8080/"
        },
        "id": "fEDZZ02HvsuW",
        "outputId": "6411b6f6-adc0-4a2e-e522-a0b7300ec6b7"
      },
      "outputs": [
        {
          "output_type": "stream",
          "name": "stdout",
          "text": [
            "Collecting pyspark\n",
            "  Downloading pyspark-3.4.1.tar.gz (310.8 MB)\n",
            "\u001b[2K     \u001b[90m━━━━━━━━━━━━━━━━━━━━━━━━━━━━━━━━━━━━━━━\u001b[0m \u001b[32m310.8/310.8 MB\u001b[0m \u001b[31m3.1 MB/s\u001b[0m eta \u001b[36m0:00:00\u001b[0m\n",
            "\u001b[?25h  Preparing metadata (setup.py) ... \u001b[?25l\u001b[?25hdone\n",
            "Requirement already satisfied: py4j==0.10.9.7 in /usr/local/lib/python3.10/dist-packages (from pyspark) (0.10.9.7)\n",
            "Building wheels for collected packages: pyspark\n",
            "  Building wheel for pyspark (setup.py) ... \u001b[?25l\u001b[?25hdone\n",
            "  Created wheel for pyspark: filename=pyspark-3.4.1-py2.py3-none-any.whl size=311285388 sha256=54e991a0c98a5c49feae0a86acffa8359c2e7d2aa7b383aeedcc6730a61bcc9f\n",
            "  Stored in directory: /root/.cache/pip/wheels/0d/77/a3/ff2f74cc9ab41f8f594dabf0579c2a7c6de920d584206e0834\n",
            "Successfully built pyspark\n",
            "Installing collected packages: pyspark\n",
            "Successfully installed pyspark-3.4.1\n"
          ]
        }
      ],
      "source": [
        "!pip install pyspark\n",
        "from pyspark.sql import SparkSession\n",
        "spark = SparkSession \\\n",
        "    .builder \\\n",
        "    .appName(\"Python Spark SQL basic example\") \\\n",
        "    .config(\"spark.some.config.option\", \"some-value\") \\\n",
        "    .getOrCreate()\n",
        "\n",
        "import numpy as np\n",
        "import pandas as pd\n",
        "#Функция для передачи результата sql-запроса в pandas DataFrame.\n",
        "#Напиши select = \"\"\" SELECT * FROM table\"\"\" и вызови функцию sql(select)\n",
        "def sql(select):\n",
        "    SQLdf = spark.sql(select)\n",
        "    return SQLdf.toPandas()\n",
        "\n",
        "import pyspark.sql.functions as F\n",
        "\n",
        "from google.colab import data_table\n",
        "data_table.disable_dataframe_formatter()\n",
        "\n",
        "spark.conf.set(\"spark.sql.execution.arrow.pyspark.enabled\", \"true\")"
      ]
    },
    {
      "cell_type": "markdown",
      "source": [
        "# Load data"
      ],
      "metadata": {
        "id": "2qE0St6w57Oy"
      }
    },
    {
      "cell_type": "code",
      "source": [
        "def reheadering_ETL():\n",
        "    #extraction data from csv\n",
        "    path = \"/content/drive/MyDrive/Spark_training/california_housing_train.csv\"\n",
        "    sc = spark.read.csv(path)\n",
        "    sc.createOrReplaceTempView(\"df\")\n",
        "    #transformation data (reheadering columns)\n",
        "    sc_pandas = sc.toPandas()\n",
        "    columns_name = dict(zip(sc_pandas.columns.to_list(),sc_pandas.iloc[0].to_list()))\n",
        "    sc_pandas.rename(columns=columns_name, inplace=True)\n",
        "    sc_pandas.drop([0], inplace=True)\n",
        "    sc = spark.createDataFrame(sc_pandas)\n",
        "    #loading data to json\n",
        "    sc.write.json('/content/drive/MyDrive/Spark_training/output', mode='overwrite')\n",
        "reheadering_ETL()\n"
      ],
      "metadata": {
        "id": "vH5JnlkO3_Pk"
      },
      "execution_count": 5,
      "outputs": []
    },
    {
      "cell_type": "code",
      "source": [
        "spark.read.json('/content/drive/MyDrive/Spark_training/output').show() # output data"
      ],
      "metadata": {
        "colab": {
          "base_uri": "https://localhost:8080/"
        },
        "id": "4CWlMtJJcZk5",
        "outputId": "62a91f62-f278-4302-87ca-4f168be4f7b5"
      },
      "execution_count": 6,
      "outputs": [
        {
          "output_type": "stream",
          "name": "stdout",
          "text": [
            "+-----------+------------------+---------+-----------+------------------+-------------+-----------+--------------+-----------+\n",
            "| households|housing_median_age| latitude|  longitude|median_house_value|median_income| population|total_bedrooms|total_rooms|\n",
            "+-----------+------------------+---------+-----------+------------------+-------------+-----------+--------------+-----------+\n",
            "| 472.000000|         15.000000|34.190000|-114.310000|      66900.000000|     1.493600|1015.000000|   1283.000000|5612.000000|\n",
            "| 463.000000|         19.000000|34.400000|-114.470000|      80100.000000|     1.820000|1129.000000|   1901.000000|7650.000000|\n",
            "| 117.000000|         17.000000|33.690000|-114.560000|      85700.000000|     1.650900| 333.000000|    174.000000| 720.000000|\n",
            "| 226.000000|         14.000000|33.640000|-114.570000|      73400.000000|     3.191700| 515.000000|    337.000000|1501.000000|\n",
            "| 262.000000|         20.000000|33.570000|-114.570000|      65500.000000|     1.925000| 624.000000|    326.000000|1454.000000|\n",
            "| 239.000000|         29.000000|33.630000|-114.580000|      74000.000000|     3.343800| 671.000000|    236.000000|1387.000000|\n",
            "| 633.000000|         25.000000|33.610000|-114.580000|      82400.000000|     2.676800|1841.000000|    680.000000|2907.000000|\n",
            "| 158.000000|         41.000000|34.830000|-114.590000|      48500.000000|     1.708300| 375.000000|    168.000000| 812.000000|\n",
            "|1056.000000|         34.000000|33.610000|-114.590000|      58400.000000|     2.178200|3134.000000|   1175.000000|4789.000000|\n",
            "| 271.000000|         46.000000|34.830000|-114.600000|      48100.000000|     2.190800| 787.000000|    309.000000|1497.000000|\n",
            "| 824.000000|         16.000000|33.620000|-114.600000|      86500.000000|     2.679700|2434.000000|    801.000000|3741.000000|\n",
            "| 437.000000|         21.000000|33.600000|-114.600000|      62000.000000|     1.625000|1182.000000|    483.000000|1988.000000|\n",
            "| 211.000000|         48.000000|34.840000|-114.610000|      48600.000000|     2.157100| 580.000000|    248.000000|1291.000000|\n",
            "| 479.000000|         31.000000|34.830000|-114.610000|      70400.000000|     3.212000|1346.000000|    464.000000|2478.000000|\n",
            "| 300.000000|         15.000000|32.760000|-114.630000|      45000.000000|     0.858500| 949.000000|    378.000000|1448.000000|\n",
            "| 401.000000|         17.000000|34.890000|-114.650000|      69100.000000|     1.699100|1005.000000|    587.000000|2556.000000|\n",
            "| 256.000000|         28.000000|33.600000|-114.650000|      94900.000000|     2.965300| 666.000000|    322.000000|1678.000000|\n",
            "|  27.000000|         21.000000|32.790000|-114.650000|      25000.000000|     0.857100|  64.000000|     33.000000|  44.000000|\n",
            "| 320.000000|         17.000000|32.740000|-114.660000|      44000.000000|     1.204900| 775.000000|    386.000000|1388.000000|\n",
            "|  15.000000|         17.000000|33.920000|-114.670000|      27500.000000|     1.265600|  29.000000|     24.000000|  97.000000|\n",
            "+-----------+------------------+---------+-----------+------------------+-------------+-----------+--------------+-----------+\n",
            "only showing top 20 rows\n",
            "\n"
          ]
        }
      ]
    },
    {
      "cell_type": "code",
      "source": [
        "sc_renamed = spark.read.json('/content/drive/MyDrive/Spark_training/output')\n",
        "sc_renamed.dtypes\n"
      ],
      "metadata": {
        "colab": {
          "base_uri": "https://localhost:8080/"
        },
        "id": "To0_Lu--qRHg",
        "outputId": "cb14c4a3-a508-42a2-fbbd-24aeb27cb364"
      },
      "execution_count": 7,
      "outputs": [
        {
          "output_type": "execute_result",
          "data": {
            "text/plain": [
              "[('households', 'string'),\n",
              " ('housing_median_age', 'string'),\n",
              " ('latitude', 'string'),\n",
              " ('longitude', 'string'),\n",
              " ('median_house_value', 'string'),\n",
              " ('median_income', 'string'),\n",
              " ('population', 'string'),\n",
              " ('total_bedrooms', 'string'),\n",
              " ('total_rooms', 'string')]"
            ]
          },
          "metadata": {},
          "execution_count": 7
        }
      ]
    },
    {
      "cell_type": "code",
      "source": [
        "def FloatType_Transform(sc_renamed):\n",
        "    #Extract\n",
        "    sc_renamed = spark.read.json('/content/drive/MyDrive/Spark_training/output')\n",
        "    #Transform\n",
        "    from pyspark.sql.functions import col\n",
        "    return sc_renamed.select([col(col_name).cast('float') for col_name in sc_renamed.columns])\n",
        "sc_renamed= sc_renamed.transform(FloatType_Transform)\n",
        "sc_renamed.write.json('/content/drive/MyDrive/Spark_training/output/float_type_transform', mode='overwrite')"
      ],
      "metadata": {
        "id": "O-KoZ8pSswup"
      },
      "execution_count": 8,
      "outputs": []
    },
    {
      "cell_type": "code",
      "source": [
        "spark.read.json('/content/drive/MyDrive/Spark_training/output/float_type_transform').dtypes"
      ],
      "metadata": {
        "colab": {
          "base_uri": "https://localhost:8080/"
        },
        "id": "j0kb7buuyOyV",
        "outputId": "826a78dc-17f2-43e7-fc2f-d70fdae0edeb"
      },
      "execution_count": 9,
      "outputs": [
        {
          "output_type": "execute_result",
          "data": {
            "text/plain": [
              "[('households', 'double'),\n",
              " ('housing_median_age', 'double'),\n",
              " ('latitude', 'double'),\n",
              " ('longitude', 'double'),\n",
              " ('median_house_value', 'double'),\n",
              " ('median_income', 'double'),\n",
              " ('population', 'double'),\n",
              " ('total_bedrooms', 'double'),\n",
              " ('total_rooms', 'double')]"
            ]
          },
          "metadata": {},
          "execution_count": 9
        }
      ]
    },
    {
      "cell_type": "code",
      "source": [
        "from google.colab import drive\n",
        "drive.mount('/content/drive')"
      ],
      "metadata": {
        "colab": {
          "base_uri": "https://localhost:8080/"
        },
        "id": "ZEWf8ZyJr09X",
        "outputId": "c04ae5af-764c-491f-e7d7-3fe5d440d40e"
      },
      "execution_count": 10,
      "outputs": [
        {
          "output_type": "stream",
          "name": "stdout",
          "text": [
            "Drive already mounted at /content/drive; to attempt to forcibly remount, call drive.mount(\"/content/drive\", force_remount=True).\n"
          ]
        }
      ]
    },
    {
      "cell_type": "markdown",
      "source": [
        "# Data Frame Mappers"
      ],
      "metadata": {
        "id": "wD_ow8mP54xh"
      }
    },
    {
      "cell_type": "markdown",
      "source": [
        "Получение нового DF с преобразованными значениями"
      ],
      "metadata": {
        "id": "HqCBCUi4-ttr"
      }
    },
    {
      "cell_type": "code",
      "source": [
        "sc_renamed.show()"
      ],
      "metadata": {
        "colab": {
          "base_uri": "https://localhost:8080/"
        },
        "id": "96z2HjBr58-7",
        "outputId": "8cef32e0-6375-4eea-f019-ca6e8a7535a6"
      },
      "execution_count": 15,
      "outputs": [
        {
          "output_type": "stream",
          "name": "stdout",
          "text": [
            "+----------+------------------+--------+---------+------------------+-------------+----------+--------------+-----------+\n",
            "|households|housing_median_age|latitude|longitude|median_house_value|median_income|population|total_bedrooms|total_rooms|\n",
            "+----------+------------------+--------+---------+------------------+-------------+----------+--------------+-----------+\n",
            "|     472.0|              15.0|   34.19|  -114.31|           66900.0|       1.4936|    1015.0|        1283.0|     5612.0|\n",
            "|     463.0|              19.0|    34.4|  -114.47|           80100.0|         1.82|    1129.0|        1901.0|     7650.0|\n",
            "|     117.0|              17.0|   33.69|  -114.56|           85700.0|       1.6509|     333.0|         174.0|      720.0|\n",
            "|     226.0|              14.0|   33.64|  -114.57|           73400.0|       3.1917|     515.0|         337.0|     1501.0|\n",
            "|     262.0|              20.0|   33.57|  -114.57|           65500.0|        1.925|     624.0|         326.0|     1454.0|\n",
            "|     239.0|              29.0|   33.63|  -114.58|           74000.0|       3.3438|     671.0|         236.0|     1387.0|\n",
            "|     633.0|              25.0|   33.61|  -114.58|           82400.0|       2.6768|    1841.0|         680.0|     2907.0|\n",
            "|     158.0|              41.0|   34.83|  -114.59|           48500.0|       1.7083|     375.0|         168.0|      812.0|\n",
            "|    1056.0|              34.0|   33.61|  -114.59|           58400.0|       2.1782|    3134.0|        1175.0|     4789.0|\n",
            "|     271.0|              46.0|   34.83|   -114.6|           48100.0|       2.1908|     787.0|         309.0|     1497.0|\n",
            "|     824.0|              16.0|   33.62|   -114.6|           86500.0|       2.6797|    2434.0|         801.0|     3741.0|\n",
            "|     437.0|              21.0|    33.6|   -114.6|           62000.0|        1.625|    1182.0|         483.0|     1988.0|\n",
            "|     211.0|              48.0|   34.84|  -114.61|           48600.0|       2.1571|     580.0|         248.0|     1291.0|\n",
            "|     479.0|              31.0|   34.83|  -114.61|           70400.0|        3.212|    1346.0|         464.0|     2478.0|\n",
            "|     300.0|              15.0|   32.76|  -114.63|           45000.0|       0.8585|     949.0|         378.0|     1448.0|\n",
            "|     401.0|              17.0|   34.89|  -114.65|           69100.0|       1.6991|    1005.0|         587.0|     2556.0|\n",
            "|     256.0|              28.0|    33.6|  -114.65|           94900.0|       2.9653|     666.0|         322.0|     1678.0|\n",
            "|      27.0|              21.0|   32.79|  -114.65|           25000.0|       0.8571|      64.0|          33.0|       44.0|\n",
            "|     320.0|              17.0|   32.74|  -114.66|           44000.0|       1.2049|     775.0|         386.0|     1388.0|\n",
            "|      15.0|              17.0|   33.92|  -114.67|           27500.0|       1.2656|      29.0|          24.0|       97.0|\n",
            "+----------+------------------+--------+---------+------------------+-------------+----------+--------------+-----------+\n",
            "only showing top 20 rows\n",
            "\n"
          ]
        }
      ]
    },
    {
      "cell_type": "code",
      "source": [
        "df_1 = sc_renamed.rdd.map(lambda x: (x['households']/10, x['housing_median_age']/2))\\\n",
        ".toDF(['households','housing_median_age'])"
      ],
      "metadata": {
        "id": "HEx7-oKj69wO"
      },
      "execution_count": 36,
      "outputs": []
    },
    {
      "cell_type": "code",
      "source": [
        "df_1.show()"
      ],
      "metadata": {
        "colab": {
          "base_uri": "https://localhost:8080/"
        },
        "id": "TJb0l8Dp9YvD",
        "outputId": "6592f73c-2218-4a3e-d2bf-37998efe223f"
      },
      "execution_count": 37,
      "outputs": [
        {
          "output_type": "stream",
          "name": "stdout",
          "text": [
            "+----------+------------------+\n",
            "|households|housing_median_age|\n",
            "+----------+------------------+\n",
            "|      47.2|               7.5|\n",
            "|      46.3|               9.5|\n",
            "|      11.7|               8.5|\n",
            "|      22.6|               7.0|\n",
            "|      26.2|              10.0|\n",
            "|      23.9|              14.5|\n",
            "|      63.3|              12.5|\n",
            "|      15.8|              20.5|\n",
            "|     105.6|              17.0|\n",
            "|      27.1|              23.0|\n",
            "|      82.4|               8.0|\n",
            "|      43.7|              10.5|\n",
            "|      21.1|              24.0|\n",
            "|      47.9|              15.5|\n",
            "|      30.0|               7.5|\n",
            "|      40.1|               8.5|\n",
            "|      25.6|              14.0|\n",
            "|       2.7|              10.5|\n",
            "|      32.0|               8.5|\n",
            "|       1.5|               8.5|\n",
            "+----------+------------------+\n",
            "only showing top 20 rows\n",
            "\n"
          ]
        }
      ]
    },
    {
      "cell_type": "markdown",
      "source": [
        "Добавление новой колноки, рассчитаной на основе существующих"
      ],
      "metadata": {
        "id": "5qdixAdl_-qx"
      }
    },
    {
      "cell_type": "code",
      "source": [
        "from pyspark.sql.functions import lit"
      ],
      "metadata": {
        "id": "6WAdCVd6AFM_"
      },
      "execution_count": 40,
      "outputs": []
    },
    {
      "cell_type": "code",
      "source": [
        "df_2 = df_1.withColumn('multiplication_col', df_1.households*df_1.housing_median_age)"
      ],
      "metadata": {
        "id": "fvIWXTWjAMFd"
      },
      "execution_count": 52,
      "outputs": []
    },
    {
      "cell_type": "code",
      "source": [
        "df_2.show()"
      ],
      "metadata": {
        "colab": {
          "base_uri": "https://localhost:8080/"
        },
        "id": "BqA7rDuVDcll",
        "outputId": "f01d89d4-065f-45ca-b3ce-4a637bdeb163"
      },
      "execution_count": 59,
      "outputs": [
        {
          "output_type": "stream",
          "name": "stdout",
          "text": [
            "+----------+------------------+------------------+\n",
            "|households|housing_median_age|multiplication_col|\n",
            "+----------+------------------+------------------+\n",
            "|      47.2|               7.5|             354.0|\n",
            "|      46.3|               9.5|439.84999999999997|\n",
            "|      11.7|               8.5| 99.44999999999999|\n",
            "|      22.6|               7.0|158.20000000000002|\n",
            "|      26.2|              10.0|             262.0|\n",
            "|      23.9|              14.5|346.54999999999995|\n",
            "|      63.3|              12.5|            791.25|\n",
            "|      15.8|              20.5|323.90000000000003|\n",
            "|     105.6|              17.0|1795.1999999999998|\n",
            "|      27.1|              23.0| 623.3000000000001|\n",
            "|      82.4|               8.0|             659.2|\n",
            "|      43.7|              10.5|            458.85|\n",
            "|      21.1|              24.0|506.40000000000003|\n",
            "|      47.9|              15.5| 742.4499999999999|\n",
            "|      30.0|               7.5|             225.0|\n",
            "|      40.1|               8.5|            340.85|\n",
            "|      25.6|              14.0|358.40000000000003|\n",
            "|       2.7|              10.5|             28.35|\n",
            "|      32.0|               8.5|             272.0|\n",
            "|       1.5|               8.5|             12.75|\n",
            "+----------+------------------+------------------+\n",
            "only showing top 20 rows\n",
            "\n"
          ]
        }
      ]
    },
    {
      "cell_type": "code",
      "source": [
        "from pyspark.sql.functions import udf"
      ],
      "metadata": {
        "id": "ItzoxeLvB8cq"
      },
      "execution_count": 68,
      "outputs": []
    },
    {
      "cell_type": "code",
      "source": [
        "@udf\n",
        "def rounding(x):\n",
        "    return round(x, 2)\n",
        "# rounding_udf = udf(rounding)\n",
        "\n",
        "df_3 = df_2.select(df_2.households, df_2.housing_median_age, rounding(df_2.multiplication_col))\n"
      ],
      "metadata": {
        "id": "M3lWTiNoDVUm"
      },
      "execution_count": 69,
      "outputs": []
    },
    {
      "cell_type": "code",
      "source": [
        "df_3.show()"
      ],
      "metadata": {
        "colab": {
          "base_uri": "https://localhost:8080/"
        },
        "id": "0KSZf2uHErLs",
        "outputId": "19c067af-9404-45be-9e42-06a4a5b44b74"
      },
      "execution_count": 70,
      "outputs": [
        {
          "output_type": "stream",
          "name": "stdout",
          "text": [
            "+----------+------------------+----------------------------+\n",
            "|households|housing_median_age|rounding(multiplication_col)|\n",
            "+----------+------------------+----------------------------+\n",
            "|      47.2|               7.5|                       354.0|\n",
            "|      46.3|               9.5|                      439.85|\n",
            "|      11.7|               8.5|                       99.45|\n",
            "|      22.6|               7.0|                       158.2|\n",
            "|      26.2|              10.0|                       262.0|\n",
            "|      23.9|              14.5|                      346.55|\n",
            "|      63.3|              12.5|                      791.25|\n",
            "|      15.8|              20.5|                       323.9|\n",
            "|     105.6|              17.0|                      1795.2|\n",
            "|      27.1|              23.0|                       623.3|\n",
            "|      82.4|               8.0|                       659.2|\n",
            "|      43.7|              10.5|                      458.85|\n",
            "|      21.1|              24.0|                       506.4|\n",
            "|      47.9|              15.5|                      742.45|\n",
            "|      30.0|               7.5|                       225.0|\n",
            "|      40.1|               8.5|                      340.85|\n",
            "|      25.6|              14.0|                       358.4|\n",
            "|       2.7|              10.5|                       28.35|\n",
            "|      32.0|               8.5|                       272.0|\n",
            "|       1.5|               8.5|                       12.75|\n",
            "+----------+------------------+----------------------------+\n",
            "only showing top 20 rows\n",
            "\n"
          ]
        }
      ]
    },
    {
      "cell_type": "code",
      "source": [
        "df_3 = df_3.withColumnRenamed('rounding(multiplication_col)', 'multiplication_col')"
      ],
      "metadata": {
        "id": "YsiwIYFIE71I"
      },
      "execution_count": 71,
      "outputs": []
    },
    {
      "cell_type": "code",
      "source": [
        "df_3.show()"
      ],
      "metadata": {
        "colab": {
          "base_uri": "https://localhost:8080/"
        },
        "id": "II9FNNyfFu4Y",
        "outputId": "c35eed89-9365-47d6-ed6b-052a9a5dfe17"
      },
      "execution_count": 72,
      "outputs": [
        {
          "output_type": "stream",
          "name": "stdout",
          "text": [
            "+----------+------------------+------------------+\n",
            "|households|housing_median_age|multiplication_col|\n",
            "+----------+------------------+------------------+\n",
            "|      47.2|               7.5|             354.0|\n",
            "|      46.3|               9.5|            439.85|\n",
            "|      11.7|               8.5|             99.45|\n",
            "|      22.6|               7.0|             158.2|\n",
            "|      26.2|              10.0|             262.0|\n",
            "|      23.9|              14.5|            346.55|\n",
            "|      63.3|              12.5|            791.25|\n",
            "|      15.8|              20.5|             323.9|\n",
            "|     105.6|              17.0|            1795.2|\n",
            "|      27.1|              23.0|             623.3|\n",
            "|      82.4|               8.0|             659.2|\n",
            "|      43.7|              10.5|            458.85|\n",
            "|      21.1|              24.0|             506.4|\n",
            "|      47.9|              15.5|            742.45|\n",
            "|      30.0|               7.5|             225.0|\n",
            "|      40.1|               8.5|            340.85|\n",
            "|      25.6|              14.0|             358.4|\n",
            "|       2.7|              10.5|             28.35|\n",
            "|      32.0|               8.5|             272.0|\n",
            "|       1.5|               8.5|             12.75|\n",
            "+----------+------------------+------------------+\n",
            "only showing top 20 rows\n",
            "\n"
          ]
        }
      ]
    }
  ]
}